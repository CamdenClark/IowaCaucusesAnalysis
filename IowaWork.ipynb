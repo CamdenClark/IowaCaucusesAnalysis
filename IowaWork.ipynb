{
 "cells": [
  {
   "cell_type": "code",
   "execution_count": 1,
   "metadata": {
    "collapsed": false
   },
   "outputs": [],
   "source": [
    "import pandas as pd\n",
    "import matplotlib.pyplot as plt\n",
    "population = pd.read_excel(\"PopulationEstimates.xls\") #First, population\n",
    "population=population[population['Unnamed: 1'].isin([\"IA\"])]\n",
    "population=population[~population['Unnamed: 2'].isin([\"Iowa\"])]\n",
    "population=population.drop(population.columns[[x for x in range (3,13)]],axis=1)\n",
    "population=population.drop(population.columns[[x for x in range (4,74)]],axis=1)\n",
    "population=population.drop(population.columns[[0,1]],axis=1)\n",
    "population=population.rename(columns={'Unnamed: 13':'Population','Unnamed: 2':'County'})\n",
    "population=population.reset_index(drop=True)\n",
    "population['County']=population['County'].apply(lambda x: x[:-7])\n",
    "population.set_index(\"County\",drop=True,inplace=True)\n",
    "population.index.name=None\n",
    "\n",
    "poverty = pd.read_excel(\"PovertyEstimates.xls\") #Now, poverty\n",
    "poverty=poverty[poverty['Unnamed: 1'].isin([\"IA\"])]\n",
    "poverty=poverty[~poverty['Unnamed: 2'].isin([\"Iowa\"])]\n",
    "poverty=poverty.drop(poverty.columns[[x for x in range (3,10)]],axis=1)\n",
    "poverty=poverty.drop(poverty.columns[[x for x in range (4,27)]],axis=1)\n",
    "poverty=poverty.drop(poverty.columns[[0,1]],axis=1)\n",
    "poverty=poverty.rename(columns={'Unnamed: 10':'Poverty Rate','Unnamed: 2':'County'})\n",
    "poverty=poverty.reset_index(drop=True)\n",
    "poverty['County']=poverty['County'].apply(lambda x: x[:-7])\n",
    "poverty.set_index(\"County\",drop=True,inplace=True)\n",
    "poverty.index.name=None\n",
    "\n",
    "unemployment = pd.read_excel(\"Unemployment.xls\") #Now, unemployment/median income\n",
    "unemployment=unemployment[unemployment['Unnamed: 1'].isin([\"IA\"])]\n",
    "unemployment=unemployment[~unemployment['Unnamed: 2'].isin([\"Iowa\"])]\n",
    "unemployment=unemployment.drop(unemployment.columns[[x for x in range (3,42)]],axis=1)\n",
    "unemployment=unemployment.drop(unemployment.columns[[x for x in range (5,6)]],axis=1)\n",
    "unemployment=unemployment.drop(unemployment.columns[[0,1]],axis=1)\n",
    "unemployment=unemployment.rename(columns={'Unnamed: 42':'Unemployment Rate','Unnamed: 2':'County','Unnamed: 43':'Median Income'})\n",
    "unemployment=unemployment.reset_index(drop=True)\n",
    "unemployment['County']=unemployment['County'].apply(lambda x: x[:-11])\n",
    "unemployment.set_index(\"County\",drop=True,inplace=True)\n",
    "unemployment.index.name=None"
   ]
  },
  {
   "cell_type": "code",
   "execution_count": 2,
   "metadata": {
    "collapsed": false
   },
   "outputs": [],
   "source": [
    "import urllib.request\n",
    "import simplejson\n",
    "test_json=urllib.request.urlopen(\"https://iowadems-caucussitecdn-prod2.azureedge.net/api/countycandidateresults\").read()\n",
    "json_parsed=simplejson.loads(test_json)\n",
    "CountyResults=json_parsed['CountyResults']\n",
    "del CountyResults[-1] #Deleting extraneous information\n",
    "FinalResults=[[county['County']['Name'],county['Candidates'][2]['WinPercentage'],county['Candidates'][4]['WinPercentage']] for county in CountyResults]\n",
    "FinalResults=FinalResults\n",
    "ResultsDF=pd.DataFrame(FinalResults,columns=['County','Hillary Win Pct','Bernie Win Pct'])\n",
    "ResultsDF=ResultsDF.sort_values(by=['County'])\n",
    "ResultsDF.set_index(\"County\",drop=True,inplace=True)\n",
    "ResultsDF.index.name=None"
   ]
  },
  {
   "cell_type": "code",
   "execution_count": 3,
   "metadata": {
    "collapsed": false
   },
   "outputs": [],
   "source": [
    "Final=pd.concat([ResultsDF,population,poverty,unemployment],axis=1,join='inner')"
   ]
  },
  {
   "cell_type": "code",
   "execution_count": 6,
   "metadata": {
    "collapsed": false
   },
   "outputs": [],
   "source": [
    "import numpy as np\n",
    "from sklearn import linear_model\n",
    "\n",
    "unemploymentclf = linear_model.LinearRegression()\n",
    "unemploymentclf.fit(Final['Unemployment Rate'].reshape((99,1)),Final['Hillary Win Pct'].reshape((99,1)))\n",
    "f,ax=plt.subplots(2,2,sharey='row')\n",
    "ax[1,1].plot(Final['Unemployment Rate'],Final['Hillary Win Pct'],'ro')\n",
    "ax[1,1].plot(Final['Unemployment Rate'].reshape((99,1)),unemploymentclf.predict(Final['Unemployment Rate'].reshape((99,1))),color='blue')\n",
    "ax[1,1].set_title('Unemployment/Clinton Win Pct')\n",
    "\n",
    "incomefinal=Final[Final['Median Income']<70000]\n",
    "medianincomeclf = linear_model.LinearRegression()\n",
    "medianincomeclf.fit(incomefinal['Median Income'].reshape((98,1)),incomefinal['Hillary Win Pct'].reshape((98,1)))\n",
    "ax[1,0].plot(incomefinal['Median Income'],incomefinal['Hillary Win Pct'],'ro')\n",
    "ax[1,0].plot(incomefinal['Median Income'].reshape((98,1)),medianincomeclf.predict(incomefinal['Median Income'].reshape((98,1))),color='blue')\n",
    "ax[1,0].set_title('Median Income/Clinton Win Pct')\n",
    "\n",
    "\n",
    "clf = linear_model.LinearRegression()\n",
    "NewFinal=Final[Final['Population']<60000]\n",
    "clf.fit(NewFinal['Population'].reshape((89,1)),NewFinal['Hillary Win Pct'].reshape((89,1)))\n",
    "ax[0,0].plot(NewFinal['Population'],NewFinal['Hillary Win Pct'],'ro')\n",
    "ax[0,0].plot(NewFinal['Population'].reshape((89,1)),clf.predict(NewFinal['Population'].reshape((89,1))),color='blue')\n",
    "ax[0,0].set_title('Population/Clinton Win Pct')\n",
    "\n",
    "povertyclf = linear_model.LinearRegression()\n",
    "povertyclf.fit(Final['Poverty Rate'].reshape((99,1)),Final['Hillary Win Pct'].reshape((99,1)))\n",
    "ax[0,1].plot(Final['Poverty Rate'],Final['Hillary Win Pct'],'ro')\n",
    "ax[0,1].plot(Final['Poverty Rate'].reshape((99,1)),povertyclf.predict(Final['Poverty Rate'].reshape((99,1))),color='blue')\n",
    "ax[0,1].set_title('Poverty Rate/Clinton Win Pct')\n",
    "\n",
    "f.suptitle(\"Analyzing Iowa Caucus Data with Census Data\")\n",
    "plt.show()"
   ]
  }
 ],
 "metadata": {
  "kernelspec": {
   "display_name": "Python 3",
   "language": "python",
   "name": "python3"
  },
  "language_info": {
   "codemirror_mode": {
    "name": "ipython",
    "version": 3
   },
   "file_extension": ".py",
   "mimetype": "text/x-python",
   "name": "python",
   "nbconvert_exporter": "python",
   "pygments_lexer": "ipython3",
   "version": "3.4.2"
  }
 },
 "nbformat": 4,
 "nbformat_minor": 0
}
